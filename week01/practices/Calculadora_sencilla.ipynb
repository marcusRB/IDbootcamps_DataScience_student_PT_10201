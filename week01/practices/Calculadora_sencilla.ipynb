{
  "nbformat": 4,
  "nbformat_minor": 0,
  "metadata": {
    "colab": {
      "name": "Calculadora_sencilla.ipynb",
      "provenance": [],
      "collapsed_sections": []
    },
    "kernelspec": {
      "name": "python3",
      "display_name": "Python 3"
    },
    "language_info": {
      "name": "python"
    }
  },
  "cells": [
    {
      "cell_type": "markdown",
      "metadata": {
        "id": "MJFXpot9_MLX"
      },
      "source": [
        "***\n",
        "## Vamos con el laboratorio 3\n",
        "\n",
        "Crear una calculadora sencilla sin definir funciones - parte 1\n",
        "\n",
        "***\n",
        "### lab 3 - Crear una calculadora **sencilla** sin definir funciones - parte 1\n",
        "\n",
        "Cree una calculadora sencilla que acepte un primer número, una operación y un segundo número.\n",
        "\n",
        "Este es un resultado de ejemplo, en el que un usuario ha escrito *4*, *** y *5* en los cuadros de entrada:\n",
        "\n",
        "\n",
        "```output\n",
        "Simple calculator!\n",
        "First number? 4\n",
        "Operation? *\n",
        "Second number? 5\n",
        "product of 4 * 5 equals 20\n",
        "```\n",
        "\n",
        "El programa debe aceptar un símbolo, como el símbolo de asterisco (*), para realizar una multiplicación y generar un producto. Asegúrese de implementar lógica para estos resultados:\n",
        "\n",
        "- Suma (+)\n",
        "- Resta (-)\n",
        "- Multiplicación (*)\n",
        "- Cociente (/)\n",
        "- Exponente (//)\n",
        "- Módulo (%)\n",
        "\n",
        "Si el usuario no escribe un valor numérico, muestre este mensaje:\n",
        "\n",
        "\n",
        "```output\n",
        "Please input a number.\n",
        "```\n",
        "\n",
        "Si el usuario escribe una operación que no se reconoce, muestre este mensaje:\n",
        "\n",
        "\n",
        "```output\n",
        "Operation not recognized.\n",
        "```\n",
        "\n",
        "Tanto si tiene dificultades y necesita echar un vistazo a la solución como si finaliza el ejercicio correctamente, continúe para ver una solución a este desafío."
      ]
    },
    {
      "cell_type": "markdown",
      "metadata": {
        "id": "y3c76u0D_Qho"
      },
      "source": [
        "#### PSEUDOCODIGO\n",
        "\n",
        "Declaramos dos valores de entrada\n",
        "```\n",
        "a (input)\n",
        "b (input)\n",
        "```\n",
        "\n",
        "Declarar el tipo de operación a realizar\n",
        "```\n",
        "operacion (input)\n",
        "```\n",
        "\n",
        "Creamos una variable con una lista de operadores\n",
        "```\n",
        "operadores = [\"+\", \"-\", \"*\", \"/\", \"//\", \"%\" ]\n",
        "```\n",
        "\n",
        "Declaramos la condición de evaluación\n",
        "SI el operador no se encuentra en la lista de Operadores\n",
        "`` \n",
        "print (Operación no reconocida)\n",
        "```\n",
        "\n",
        "ELSE\n",
        "\n",
        "SI el operacion es \"+\"\n",
        "ELSE RESULTADO a+b\n",
        "\n",
        "SI EL operacion es \"-\"\n",
        "ELSE RESULTADO a-b\n",
        "\n",
        "\n",
        "... así para el resto de operadores\n",
        "\n",
        "print(resultado)\n",
        "```"
      ]
    },
    {
      "cell_type": "code",
      "metadata": {
        "id": "KpL-j1GI_RWm",
        "colab": {
          "base_uri": "https://localhost:8080/"
        },
        "outputId": "7b4e3018-dca8-47b8-e882-20cb147f3d60"
      },
      "source": [
        "numero_1 = float(input(\"Introduce el primer número: \"))\n",
        "numero_2 = float(input(\"Introduce el segundo número: \"))\n",
        "\n",
        "opcion = 0\n",
        "while True:\n",
        "    print(\"\"\"\n",
        "    Dime, ¿qué quieres hacer?\n",
        "    \n",
        "    1) Sumar los números\n",
        "    2) Restar los números\n",
        "    3) Multiplicar los números\n",
        "    4) Dividir los numeros\n",
        "    5) Elevar los numeros\n",
        "    6) Porcentaje \n",
        "    \"\"\")\n",
        "    break\n",
        "\n",
        "opcion = int(input(\"Selecciona la operación que quieres realizar: \"))     \n",
        "\n",
        "if opcion == 1:\n",
        "  print(\"RESULTADO: La suma de\",numero_1,\"+\",numero_2,\"es igual a\",numero_1+numero_2)\n",
        "\n",
        "elif opcion == 2:\n",
        "  print(\"RESULTADO: La resta de\",numero_1,\"-\",numero_2,\"es igual a\",numero_1-numero_2)\n",
        "\n",
        "elif opcion == 3:\n",
        "  print(\"RESULTADO: El producto de\",numero_1,\"*\",numero_2,\"es igual a\",numero_1*numero_2)\n",
        "\n",
        "elif opcion == 4:\n",
        "  print(\"RESULTADO: La cociente de\",numero_1,\"/\",numero_2,\"es igual a\",numero_1/numero_2)\n",
        "\n",
        "elif opcion == 5: \n",
        "  print(\"RESULTADO: El exponente de\",numero_1,\"//\",numero_2,\"es igual a\",numero_1//numero_2)\n",
        "\n",
        "elif opcion == 6:\n",
        "  print(\"RESULTADO: El modulo de\",numero_1,\"%\",numero_2,\"es igual a\",numero_1%numero_2)\n",
        "\n"
      ],
      "execution_count": 27,
      "outputs": [
        {
          "output_type": "stream",
          "name": "stdout",
          "text": [
            "Introduce el primer número: 7\n",
            "Introduce el segundo número: 7\n",
            "\n",
            "    Dime, ¿qué quieres hacer?\n",
            "    \n",
            "    1) Sumar los números\n",
            "    2) Restar los números\n",
            "    3) Multiplicar los números\n",
            "    4) Dividir los numeros\n",
            "    5) Elevar los numeros\n",
            "    6) Porcentaje \n",
            "    \n",
            "Selecciona la operación que quieres realizar: 3\n",
            "RESULTADO: El producto de 7.0 * 7.0 es igual a 49.0\n"
          ]
        }
      ]
    },
    {
      "cell_type": "code",
      "metadata": {
        "id": "tIRIoLmu_O2E"
      },
      "source": [
        ""
      ],
      "execution_count": null,
      "outputs": []
    },
    {
      "cell_type": "code",
      "metadata": {
        "id": "nSo-pS8uedZ5"
      },
      "source": [
        ""
      ],
      "execution_count": null,
      "outputs": []
    }
  ]
}