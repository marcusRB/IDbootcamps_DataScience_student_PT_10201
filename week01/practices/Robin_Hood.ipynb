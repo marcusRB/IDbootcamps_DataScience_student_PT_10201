{
  "nbformat": 4,
  "nbformat_minor": 0,
  "metadata": {
    "kernelspec": {
      "display_name": "Python 3",
      "language": "python",
      "name": "python3"
    },
    "language_info": {
      "codemirror_mode": {
        "name": "ipython",
        "version": 3
      },
      "file_extension": ".py",
      "mimetype": "text/x-python",
      "name": "python",
      "nbconvert_exporter": "python",
      "pygments_lexer": "ipython3",
      "version": "3.6.7"
    },
    "colab": {
      "name": "Robin_Hood.ipynb",
      "provenance": []
    }
  },
  "cells": [
    {
      "cell_type": "markdown",
      "metadata": {
        "id": "dBBHx7k67U-e"
      },
      "source": [
        "# Robin Hood: \n",
        "Estamos en plena competición para ganar el concurso de tiro con arco en Sherwood. Con nuestro arco y flechas disparamos sobre una diana e intentamos acertar lo más cerca posible del centro. \n",
        "\n",
        "El centro de la diana viene representado por los valores (0, 0) en los ejes de coordenadas. \n",
        "\n",
        "## Objetivos: \n",
        "* estructuras de datos: listas, conjuntos, tuplas\n",
        "* operadores lógicos: if-elif-else\n",
        "* bucle: while/for\n",
        "* cálculo de mínimo (sorting opcional)\n",
        "\n",
        "## Descripción: \n",
        "En el espacio de 2 dimensiones un punto se puede definir por un par de valores que corresponden a la coordenada horizontal (x) y a la vertical (y). El espacio puede quedar dividido en 4 zonas (cuadrantes): Q1, Q2, Q3, Q4. Cuyo punto de unión único es el punto (0, 0). \n",
        "\n",
        "Si un punto se encuentra en Q1 tanto su coordenada x como la y son positivas. Te dejo un enlace a wikipedia para que te familiarices con estos cuadrantes. \n",
        "\n",
        "https://es.wikipedia.org/wiki/Coordenadas_cartesianas\n",
        "\n",
        "https://es.wikipedia.org/wiki/Distancia_euclidiana\n",
        "\n",
        "## Tareas\n",
        "1. Robin Hood es famoso por acertar a una flecha con otra flecha. ¿Lo ha conseguido? \n",
        "2. Calcula cuántos flechazos han caido en cada cuadrante. \n",
        "3. Halla el punto más cercano al centro. Calcula su distancia al centro\n",
        "4. Si la diana tiene un radio de 9, calcula el número de flechas que hay que recoger al bosque. "
      ]
    },
    {
      "cell_type": "code",
      "metadata": {
        "id": "hmeDGgnD7U-g"
      },
      "source": [
        "puntos = [(4,5), (-0,2), (4,7), (1,-3), (3,-2), (4,5), \n",
        "          (3,2), (5,7), (-5,7), (2,2), (-4,5), (0,-2), \n",
        "          (-4,7), (-1,3), (-3,2), (-4,-5), (-3,2), \n",
        "          (5,7), (5,7), (2,2), (9, 9), (-8, -9)]\n",
        "\n",
        "# 1. Robin Hood es famoso por acertar a una flecha con otra flecha. ¿Lo ha conseguido? \n",
        "\n",
        "\n",
        "# 2. Calcula cuántos flechazos han caido en cada cuadrante. \n",
        "\n",
        "\n",
        "# 3. Halla el punto más cercano al centro. Calcula su distancia al centro\n",
        "# Definir una función que calcula la distancia al centro puede servir de ayuda. \n",
        "\n",
        "\n",
        "# 4. Si la diana tiene un radio de 9, calcula el número de flechas que hay que recoger al bosque. \n",
        "\n"
      ],
      "execution_count": null,
      "outputs": []
    },
    {
      "cell_type": "code",
      "metadata": {
        "id": "7navOaX47U-i",
        "colab": {
          "base_uri": "https://localhost:8080/"
        },
        "outputId": "f928a215-9448-4c80-acf2-06e894c2bfb5"
      },
      "source": [
        "import math\n",
        "puntos = [(4,5),(-0,2),(4,7),(1,-3),(3,-2),(4,5),(3,2),(5,7),(-5,7),(2,2),(-4,5),(0,-2),(-4,7),(-1,3),(-3,2),(-4,-5),(-3,2),(-4,-5),(-3,2),(5,7),(5,7),(2,2),(9,9),(-8,-9)]\n",
        "array = []\n",
        "array_repetidos = []\n",
        "Q1 = 0\n",
        "Q2 = 0\n",
        "Q3 = 0\n",
        "Q4 = 0\n",
        "Q5 = 0 #Esto es para hacer una cuenta de los centros (0,0)\n",
        "eje = 0 #Esto es por si cae en el eje\n",
        "distancia_minima = 99999999999\n",
        "fuera = 0\n",
        "\n",
        "for x in puntos:\n",
        "    #print(x)\n",
        "    if x in array:\n",
        "      #print(\"Se ha repetido el tiro en el mismo punto \")\n",
        "      array_repetidos.append(x)\n",
        "    array.append(x)\n",
        "\n",
        "print(\"Estos son los tiros repetidos \",array_repetidos)\n",
        "\n",
        "for x in puntos:\n",
        "  if x[0] > 0 and x[1] > 0:\n",
        "    Q1 = Q1 + 1\n",
        "  elif x[0] < 0 and x[1] > 0:\n",
        "    Q2 = Q2 + 1\n",
        "  elif x[0] < 0 and x[1] < 0:\n",
        "    Q3 = Q3 + 1    \n",
        "  elif x[0] > 0 and x[1] < 0:\n",
        "    Q3 = Q3 + 1\n",
        "  elif x[0] == 0 and x[1] == 0:\n",
        "    Q5 = Q5 + 1\n",
        "  else:\n",
        "    eje = eje + 1  \n",
        "\n",
        "print(\"Han caído \",Q1, \" veces en el cuadrante 1\" )\n",
        "print(\"Han caído \",Q2, \" veces en el cuadrante 2\" )\n",
        "print(\"Han caído \",Q3, \" veces en el cuadrante 3\" )\n",
        "print(\"Han caído \",Q4, \" veces en el cuadrante 4\" )\n",
        "print(\"Han cáido \", Q5, \"centros\")\n",
        "print(\"Han cáido \", eje, \"veces en el eje, no es ningun cuadrante en especifico\")\n",
        "\n",
        "for x in puntos:\n",
        "  \n",
        "  distancia = math.sqrt(math.pow(x[0],2)+math.pow(x[1],2))\n",
        "\n",
        "  if distancia < distancia_minima:\n",
        "    distancia_minima = distancia\n",
        "  \n",
        "print(\"El tiro con distancia más cerca del centro ha sido a una distancia de \",distancia_minima)\n",
        "\n",
        "for x in puntos:\n",
        "  if abs(x[0]) > 9 or abs(x[1]) > 9: # Se podría poner con todas las condiciones if x[0] > 9 or x[0] < -9 or x[1] > 9 or x[1] < -9\n",
        "    fuera = fuera + 1\n",
        "\n",
        "print(\"Se han ido \", fuera, \" veces las flechas fuera de la diana\")"
      ],
      "execution_count": null,
      "outputs": [
        {
          "output_type": "stream",
          "name": "stdout",
          "text": [
            "Estos son los tiros repetidos  [(4, 5), (-3, 2), (-4, -5), (-3, 2), (5, 7), (5, 7), (2, 2)]\n",
            "Han caído  10  veces en el cuadrante 1\n",
            "Han caído  7  veces en el cuadrante 2\n",
            "Han caído  5  veces en el cuadrante 3\n",
            "Han caído  0  veces en el cuadrante 4\n",
            "Han cáido  0 centros\n",
            "Han cáido  2 veces en el eje, no es ningun cuadrante en especifico\n",
            "El tiro con distancia más cerca del centro ha sido a una distancia de  2.0\n",
            "Se han ido  0  veces las flechas fuera de la diana\n"
          ]
        }
      ]
    }
  ]
}