{
  "nbformat": 4,
  "nbformat_minor": 0,
  "metadata": {
    "kernelspec": {
      "display_name": "Python 3",
      "language": "python",
      "name": "python3"
    },
    "language_info": {
      "codemirror_mode": {
        "name": "ipython",
        "version": 3
      },
      "file_extension": ".py",
      "mimetype": "text/x-python",
      "name": "python",
      "nbconvert_exporter": "python",
      "pygments_lexer": "ipython3",
      "version": "3.8.6"
    },
    "colab": {
      "name": "Caracol.ipynb",
      "provenance": [],
      "collapsed_sections": []
    }
  },
  "cells": [
    {
      "cell_type": "markdown",
      "metadata": {
        "id": "a8Vdb8b6yTto"
      },
      "source": [
        "# 01 - Caracol y el pozo\n",
        "\n",
        "Un caracol cae en el fondo de un pozo de 125 cm. Cada día el caracol sube 30 cm. pero por la noche, mientras duerme, resbala 20 cm debido a que las paredes son húmedas. ¿Cuantos días tarda en escapar del pozo?\n",
        "\n",
        "TIP: https://www.vix.com/es/btg/curiosidades/59215/acertijos-matematicos-el-caracol-en-el-pozo-facil\n",
        "\n",
        "TIP: http://puzzles.nigelcoldwell.co.uk/sixtytwo.htm"
      ]
    },
    {
      "cell_type": "markdown",
      "metadata": {
        "id": "sF3J-ynTyTtp"
      },
      "source": [
        "## Solución"
      ]
    },
    {
      "cell_type": "code",
      "metadata": {
        "id": "tdnPbJdQyTtp",
        "colab": {
          "base_uri": "https://localhost:8080/"
        },
        "outputId": "d2b5f4eb-26cd-4362-d54f-53fa53e7c8e1"
      },
      "source": [
        "# Asigna los datos del problema a variables con nombres representativos\n",
        "# altura del pozo, avance diario, retroceso nocturno, distancia acumulada\n",
        "\n",
        "\n",
        "# Asigna 0 a la variable que representa la solución\n",
        "\n",
        "\n",
        "# Escribe el código que soluciona el problema\n",
        "\n",
        "\n",
        "# Imprime el resultado con print('Dias =', dias)\n",
        "\n",
        "altura = 125\n",
        "avance = 30\n",
        "retroceso = 20\n",
        "distancia_acumulada = 0\n",
        "dias = 0\n",
        "avance_cm= [30, 21, 33, 77, 44, 45, 23, 45, 12, 34, 55]\n",
        "\n",
        "while distancia_acumulada < altura:\n",
        "  dias = dias + 1\n",
        "  distancia_acumulada = distancia_acumulada + (avance)\n",
        "  \n",
        "  if distancia_acumulada < altura:\n",
        "      distancia_acumulada = distancia_acumulada - retroceso\n",
        "      \n",
        "  else: \n",
        "      print(\"El caracol tardó\", dias, \"dias\")\n",
        "\n",
        "\n",
        "max_value =max(avance_cm)\n",
        "print(\"El despalzamiento maximo del caracol fue: \" , max_value)\n",
        "\n",
        "import statistics\n",
        "\n",
        "avance_cm = [30, 21, 33, 77, 44, 45, 23, 45, 12, 34, 55]\n",
        "mean = statistics.mean(avance_cm)\n",
        "print(\"La media de avance del caracol fue: \" , mean)\n",
        "\n",
        "import statistics\n",
        "\n",
        "avance_cm = [30, 21, 33, 77, 44, 45, 23, 45, 12, 34, 55]\n",
        "st_dev = statistics.pstdev(avance_cm)\n",
        "print(\"La desviacion tipica del caracol fue: \" + str(st_dev))\n",
        "\n",
        "\n",
        "\n",
        "\n",
        "\n",
        "\n"
      ],
      "execution_count": 3,
      "outputs": [
        {
          "output_type": "stream",
          "name": "stdout",
          "text": [
            "El caracol tardó 11 dias\n",
            "El despalzamiento maximo del caracol fue:  77\n",
            "La media de avance del caracol fue:  38.09090909090909\n",
            "La desviacion tipica del caracol fue: 17.159437082600803\n"
          ]
        }
      ]
    },
    {
      "cell_type": "markdown",
      "metadata": {
        "id": "shxbjG_MyTtq"
      },
      "source": [
        "## Objetivos\n",
        "\n",
        "1. Tratamiento de variables\n",
        "2. Uso de bucle **while**\n",
        "3. Uso de condicionales **if-else**\n",
        "4. Imprimir por consola"
      ]
    },
    {
      "cell_type": "markdown",
      "metadata": {
        "id": "qJNVz4OGyTtq"
      },
      "source": [
        "## Bonus\n",
        "La distancia recorrida por el caracol viene ahora definida por una lista. \n",
        "```\n",
        "avance_cm = [30, 21, 33, 77, 44, 45, 23, 45, 12, 34, 55]\n",
        "```\n",
        "¿Cuánto tarda en subir el pozo?\n",
        "¿Cuál es su máximo de desplazamiento en un día? ¿Y su mínimo?\n",
        "¿Cuál es su media de velocidad durante el día?\n",
        "¿Cuál es la desviación típica de su desplazamiento durante el día?"
      ]
    },
    {
      "cell_type": "code",
      "metadata": {
        "id": "tiOZNbVXyTtq"
      },
      "source": [
        "# Asigna los datos del problema a variables con nombres representativos\n",
        "# altura del pozo, avance diario, retroceso nocturno, distancia acumulada\n",
        "\n",
        "\n",
        "# Asigna 0 a la variable que representa la solución\n",
        "\n",
        "\n",
        "# Escribe el código que soluciona el problema\n",
        "\n",
        "\n",
        "# Imprime el resultado con print('Dias =', dias)\n",
        "\n",
        "\n",
        "# ¿Cuál es su máximo de desplazamiento en un día? ¿Y su mínimo?\n",
        "\n",
        "\n",
        "# ¿Cuál es su media de avance?\n",
        "\n",
        "\n",
        "# ¿Cuál es la desviación típica de su desplazamiento durante el día?\n",
        "\n"
      ],
      "execution_count": null,
      "outputs": []
    },
    {
      "cell_type": "code",
      "metadata": {
        "id": "maAk6OmPyTtq"
      },
      "source": [
        ""
      ],
      "execution_count": null,
      "outputs": []
    }
  ]
}