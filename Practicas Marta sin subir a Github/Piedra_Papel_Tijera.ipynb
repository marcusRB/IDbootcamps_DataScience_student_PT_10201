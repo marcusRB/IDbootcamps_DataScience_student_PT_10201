{
  "nbformat": 4,
  "nbformat_minor": 0,
  "metadata": {
    "kernelspec": {
      "display_name": "Python 3",
      "language": "python",
      "name": "python3"
    },
    "language_info": {
      "codemirror_mode": {
        "name": "ipython",
        "version": 3
      },
      "file_extension": ".py",
      "mimetype": "text/x-python",
      "name": "python",
      "nbconvert_exporter": "python",
      "pygments_lexer": "ipython3",
      "version": "3.8.6"
    },
    "colab": {
      "name": "Copia de piedra papel tijeras.ipynb",
      "provenance": [],
      "collapsed_sections": []
    }
  },
  "cells": [
    {
      "cell_type": "markdown",
      "metadata": {
        "id": "HFsNRAWyTjbU"
      },
      "source": [
        "# Piedra, papel, tijeras\n",
        "\n",
        "Vamos jugar contra nuestro ordenador al famoso juego. \n",
        "\n",
        "https://es.wikipedia.org/wiki/Piedra,_papel_o_tijera\n",
        "\n",
        "Se aconseja el uso de funciones"
      ]
    },
    {
      "cell_type": "code",
      "metadata": {
        "id": "G23XADcGTjbW",
        "colab": {
          "base_uri": "https://localhost:8080/"
        },
        "outputId": "9e616dc9-3abb-4336-89ec-83dc7605433c"
      },
      "source": [
        "# Importa la función choice del módulo random\n",
        "# https://stackoverflow.com/questions/306400/how-to-randomly-select-an-item-from-a-list\n",
        "# Asigna a una lista las 3 posibles opciones: 'piedra', 'papel' o 'tijeras'. \n",
        "# Asigna una variable al número de partidas máxima: 1, 3, 5, etc...\n",
        "# Asigna una variable al número de partidas que debe ganar un jugador para ganar. \n",
        "# Preferiblemente el valor será en función de el número de partidas máximas\n",
        "# Define una función que devuelva aleatoriamente una de las 3 opciones. \n",
        "# Esto corresponderá a la jugada de la máquina. Totalmente aleatoria. \n",
        "# Define una función que pregunte tu elección: 'piedra', 'papel' o 'tijeras'\n",
        "# sólo debe permitir una de las 3 opciones. Esto es programación defensiva. \n",
        "# Si no es piedra, papel o tijeras sigue preguntando hasta que lo sea. \n",
        "# Define una función que resuelva un combate. \n",
        "# Devuelve 0 si hay empate, 1 si gana la máquina, 2 si gana el jugador humano     \n",
        "# Define una función que muestre la elección de cada jugador y el estado de la partida\n",
        "# Esta función debe utilizarse cada vez que se actualicen los puntos acumulados   \n",
        "# Crea dos variables que acumulen las partidas ganadas de cada participante\n",
        "# Crea un bucle que itere mientras ningún jugador alcance el mínimo de victorias\n",
        "# necesarias para ganar. Dentro del bucle resuelve la jugada de la\n",
        "# máquina y pregunta la del jugador. Comparalas y actualiza el valor de las variables\n",
        "# que acumulen las partidas ganadas de cada participante.    \n",
        "# Anuncia por consola el ganador del juego en función de quién tiene más victorias \n",
        "# aculumadas\n",
        "\n",
        "import random\n",
        "\n",
        "aleatorio = random.randrange(0, 3)\n",
        "elijePc = \"\"\n",
        "print(\"1)Piedra\")\n",
        "print(\"2)Papel\")\n",
        "print(\"3)Tijera\")\n",
        "opcion = int(input(\"Que elijes: \"))\n",
        "\n",
        "if opcion == 1:\n",
        "    elijeUsuario = \"piedra\"\n",
        "elif opcion == 2:\n",
        "    elijeUsuario = \"papel\"\n",
        "elif opcion == 3:\n",
        "    elijeUsuario = \"tijera\"\n",
        "print(\"Tu elijes: \", elijeUsuario)\n",
        "\n",
        "if aleatorio == 0:\n",
        "    elijePc = \"piedra\"\n",
        "elif aleatorio == 1:\n",
        "    elijePc = \"papel\"\n",
        "elif aleatorio == 2:\n",
        "    elijePc = \"tijera\"\n",
        "print(\"PC elijio: \", elijePc)\n",
        "print(\"...\")\n",
        "if elijePc == \"piedra\" and elijeUsuario == \"papel\":\n",
        "    print(\"Ganaste, papel envulve piedra\")\n",
        "elif elijePc == \"papel\" and elijeUsuario == \"tijera\":\n",
        "    print(\"Ganaste, Tijera corta papel\")\n",
        "elif elijePc == \"tijera\" and elijeUsuario == \"piedra\":\n",
        "    print(\"Ganaste, Piedra pisa tijera\")\n",
        "if elijePc == \"papel\" and elijeUsuario == \"piedra\":\n",
        "    print(\"perdiste, papel envulve piedra\")\n",
        "elif elijePc == \"tijera\" and elijeUsuario == \"papel\":\n",
        "    print(\"perdiste, Tijera corta papel\")\n",
        "elif elijePc == \"piedra\" and elijeUsuario == \"tijera\":\n",
        "    print(\"perdiste, Piedra pisa tijera\")\n",
        "elif elijePc == elijeUsuario:\n",
        "    print(\"empate\")\n"
      ],
      "execution_count": null,
      "outputs": [
        {
          "output_type": "stream",
          "name": "stdout",
          "text": [
            "1)Piedra\n",
            "2)Papel\n",
            "3)Tijera\n",
            "Que elijes: 1\n",
            "Tu elijes:  piedra\n",
            "PC elijio:  tijera\n",
            "...\n",
            "Ganaste, Piedra pisa tijera\n"
          ]
        }
      ]
    },
    {
      "cell_type": "markdown",
      "metadata": {
        "id": "2TsUZau1TjbY"
      },
      "source": [
        "# Bonus: Piedra, papel, tijeras, lagarto, spock\n",
        "\n",
        "Ahora vienen las mejoras. \n",
        "\n",
        "http://www.samkass.com/theories/RPSSL.html\n",
        "\n",
        "Se te pide que implimentes unas mejoras con respecto al simple juego previo. Además el número de partidas (que deberá ser IMPAR) se pedirá por consola hasta que se introduzca un número válido. \n",
        "\n",
        "Mejoras: \n",
        "* 5 opciones: piedra, papel, tijeras, lagarto, spock\n",
        "* El número de partidas se pide por consola\n",
        "Consejo: Reutiliza código que ya hagas utilizado"
      ]
    },
    {
      "cell_type": "code",
      "metadata": {
        "id": "CVzLVWubTjbY"
      },
      "source": [
        "# Importa la función choice del módulo random\n",
        "\n",
        "\n",
        "# Define una función que pide por teclado un número impar, hasta que no sea válido\n",
        "# seguirá pidiendo\n",
        "\n",
        "\n",
        "# Asigna a una lista las 5 posibles opciones. \n",
        "\n",
        "\n",
        "# Asigna una variable al número de partidas máxima: 1, 3, 5, etc...\n",
        "# Esta vez se usa la función definida previamente\n",
        "\n",
        "\n",
        "# Asigna una variable al número de partidas que debe ganar un jugador para ganar. \n",
        "# Preferiblemente el valor será en función de el número de partidas máximas\n",
        "\n",
        "\n",
        "# Define una función que devuelva aleatoriamente una de las 5 opciones. \n",
        "# Esto corresponderá a la jugada de la máquina. Totalmente aleatoria. \n",
        "\n",
        "\n",
        "\n",
        "# Define una función que pregunte tu elección de entre las 5\n",
        "# sólo debe permitir una de las 5 opciones. Esto es programación defensiva. \n",
        "# Si no es válida sigue preguntando hasta que lo sea. \n",
        "\n",
        "\n",
        "# Define una función que resuelva un combate. \n",
        "# Devuelve 0 si hay empate, 1 si gana la máquina, 2 si gana el jugador humano\n",
        "# Ahora hay más opciones\n",
        "\n",
        "\n",
        "    \n",
        "# Define una función que muestre la elección de cada jugador y el estado de la partida\n",
        "# Esta función debe utilizarse cada vez que se actualicen los puntos acumulados\n",
        "\n",
        "\n",
        "    \n",
        "# Crea dos variables que acumulen las partidas ganadas de cada participante\n",
        "\n",
        "\n",
        "# Crea un bucle que itere mientras ningún jugador alcance el mínimo de victorias\n",
        "# necesarias para ganar. Dentro del bucle resuelve la jugada de la\n",
        "# máquina y pregunta la del jugador. Comparalas y actualiza el valor de las variables\n",
        "# que acumulen las partidas ganadas de cada participante. \n",
        "\n",
        "\n",
        "    \n",
        "# Anuncia por consola el ganador del juego en función de quién tiene más victorias \n",
        "# aculumadas\n",
        "\n"
      ],
      "execution_count": null,
      "outputs": []
    },
    {
      "cell_type": "markdown",
      "metadata": {
        "id": "gu6Qx8VcTjbZ"
      },
      "source": [
        "Si has programado con cabeza, el bonus son simples modificaciones al juego original. "
      ]
    },
    {
      "cell_type": "markdown",
      "metadata": {
        "id": "FomR4uaKTjbZ"
      },
      "source": [
        "## Objetivos\n",
        "1. Uso de bucle\n",
        "2. Captura de datos por consola\n",
        "3. Uso if-elif-else\n",
        "4. Uso de try-except\n",
        "5. Definición de funciones. Programación modular. \n",
        "6. Operadores lógicos. \n",
        "7. Imprimir por consola\n",
        "8. Importación de módulos externos"
      ]
    },
    {
      "cell_type": "code",
      "metadata": {
        "id": "Fj2avqxtTjbZ"
      },
      "source": [
        ""
      ],
      "execution_count": null,
      "outputs": []
    }
  ]
}