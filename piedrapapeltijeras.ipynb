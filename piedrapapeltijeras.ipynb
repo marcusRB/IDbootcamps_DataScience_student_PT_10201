{
  "nbformat": 4,
  "nbformat_minor": 0,
  "metadata": {
    "colab": {
      "name": "piedrapapeltijeras.ipynb",
      "provenance": [],
      "authorship_tag": "ABX9TyM68rAdPsj/tPMottPQ0w6f",
      "include_colab_link": true
    },
    "kernelspec": {
      "name": "python3",
      "display_name": "Python 3"
    },
    "language_info": {
      "name": "python"
    }
  },
  "cells": [
    {
      "cell_type": "markdown",
      "metadata": {
        "id": "view-in-github",
        "colab_type": "text"
      },
      "source": [
        "<a href=\"https://colab.research.google.com/github/ricardocarreras/Bootcamp_DataScience_student/blob/master/piedrapapeltijeras.ipynb\" target=\"_parent\"><img src=\"https://colab.research.google.com/assets/colab-badge.svg\" alt=\"Open In Colab\"/></a>"
      ]
    },
    {
      "cell_type": "markdown",
      "metadata": {
        "id": "2Rgp1sQqwkoo"
      },
      "source": [
        ""
      ]
    },
    {
      "cell_type": "code",
      "metadata": {
        "colab": {
          "base_uri": "https://localhost:8080/"
        },
        "id": "MeZYxddy03I8",
        "outputId": "5fddcf86-b3c7-4414-f6d5-84ae282e12f8"
      },
      "source": [
        "import random\n",
        "\n",
        "while True:\n",
        "    humano = input(\"Elige (piedra, papel, tijeras): \")\n",
        "    opciones = [\"piedra\", \"papel\", \"tijeras\"]\n",
        "    ordenador = random.choice(opciones)\n",
        "    print(f\"\\nHas elegido {humano}, el ordenador ha elegido {ordenador}.\\n\")\n",
        "\n",
        "    if humano == ordenador:\n",
        "        print(f\"los dos habéis elegido {humano}. Empate!\")\n",
        "    elif humano == \"piedra\":\n",
        "        if ordenador == \"tijeras\":\n",
        "            print(\"la piedra rompe las tijeras, tú ganas!\")\n",
        "        else:\n",
        "            print(\"El papel cubre a la piedra. Has perdido.\")\n",
        "    elif humano == \"papel\":\n",
        "        if ordenador == \"piedra\":\n",
        "            print(\"El Papel cubre a la piedra! Tú ganas!\")\n",
        "        else:\n",
        "            print(\"Las tijeras cortan el papel! Has perdido.\")\n",
        "    elif humano == \"tijeras\":\n",
        "        if ordenador == \"paper\":\n",
        "            print(\"las tijeras cortan el papel,has ganado!\")\n",
        "        else:\n",
        "            print(\"La piedra rompe las tijeras, has perdido.\")\n",
        "\n",
        "    volverajugar = input(\"Quieres volver a jugar (y/n): \")\n",
        "    if volverajugar.lower() != \"y\":\n",
        "        break"
      ],
      "execution_count": null,
      "outputs": [
        {
          "output_type": "stream",
          "name": "stdout",
          "text": [
            "Elige (piedra, papel, tijeras): piedra\n",
            "\n",
            "Has elegido piedra, el ordenador ha elegido piedra.\n",
            "\n",
            "los dos habéis elegido piedra. Empate!\n",
            "Quieres volver a jugar (y/n): y\n",
            "Elige (piedra, papel, tijeras): papel\n",
            "\n",
            "Has elegido papel, el ordenador ha elegido piedra.\n",
            "\n",
            "El Papel cubre a la piedra! Tú ganas!\n",
            "Quieres volver a jugar (y/n): y\n",
            "Elige (piedra, papel, tijeras): piedra\n",
            "\n",
            "Has elegido piedra, el ordenador ha elegido piedra.\n",
            "\n",
            "los dos habéis elegido piedra. Empate!\n",
            "Quieres volver a jugar (y/n): y\n",
            "Elige (piedra, papel, tijeras): tijeras\n",
            "\n",
            "Has elegido tijeras, el ordenador ha elegido piedra.\n",
            "\n",
            "La piedra rompe las tijeras, has perdido.\n",
            "Quieres volver a jugar (y/n): y\n",
            "Elige (piedra, papel, tijeras): papel\n",
            "\n",
            "Has elegido papel, el ordenador ha elegido piedra.\n",
            "\n",
            "El Papel cubre a la piedra! Tú ganas!\n",
            "Quieres volver a jugar (y/n): y\n",
            "Elige (piedra, papel, tijeras): papel\n",
            "\n",
            "Has elegido papel, el ordenador ha elegido tijeras.\n",
            "\n",
            "Las tijeras cortan el papel! Has perdido.\n"
          ]
        }
      ]
    },
    {
      "cell_type": "code",
      "metadata": {
        "id": "Ms_FCN-S3hGA"
      },
      "source": [
        ""
      ],
      "execution_count": null,
      "outputs": []
    },
    {
      "cell_type": "code",
      "metadata": {
        "id": "nBoKKmwexUGI"
      },
      "source": [
        ""
      ],
      "execution_count": null,
      "outputs": []
    },
    {
      "cell_type": "code",
      "metadata": {
        "id": "KjLAxPSmwd2O"
      },
      "source": [
        ""
      ],
      "execution_count": null,
      "outputs": []
    },
    {
      "cell_type": "code",
      "metadata": {
        "id": "bGafCUUywYSr"
      },
      "source": [
        ""
      ],
      "execution_count": null,
      "outputs": []
    },
    {
      "cell_type": "code",
      "metadata": {
        "id": "xowCseSVwH6G"
      },
      "source": [
        ""
      ],
      "execution_count": null,
      "outputs": []
    },
    {
      "cell_type": "code",
      "metadata": {
        "id": "tXVY2aa2wA7C"
      },
      "source": [
        ""
      ],
      "execution_count": null,
      "outputs": []
    },
    {
      "cell_type": "code",
      "metadata": {
        "id": "8aLoFHyNv8Q3"
      },
      "source": [
        ""
      ],
      "execution_count": null,
      "outputs": []
    },
    {
      "cell_type": "code",
      "metadata": {
        "id": "33IrTbBwvaDy"
      },
      "source": [
        ""
      ],
      "execution_count": null,
      "outputs": []
    }
  ]
}